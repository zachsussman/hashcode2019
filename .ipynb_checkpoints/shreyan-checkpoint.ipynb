{
 "cells": [
  {
   "cell_type": "code",
   "execution_count": 1,
   "metadata": {},
   "outputs": [],
   "source": [
    "import random\n",
    "import itertools"
   ]
  },
  {
   "cell_type": "code",
   "execution_count": 26,
   "metadata": {},
   "outputs": [],
   "source": [
    "def read_data(i = 3):\n",
    "    d = ['a_examples', 'b_lovely_landscapes', 'c_memorable_moments', 'd_pet_pictures', 'e_shiny_selfies']\n",
    "    n = 0\n",
    "    V, H = [], []\n",
    "    with open (d[i] + '.txt', 'r') as f:\n",
    "        n = int(f.readline())\n",
    "        for line in f:\n",
    "            s = line.split()\n",
    "            if s[0] == 'V': V.append(set(s[2:]))\n",
    "            else: H.append(set(s[2:]))\n",
    "    return V, H"
   ]
  },
  {
   "cell_type": "code",
   "execution_count": 27,
   "metadata": {},
   "outputs": [],
   "source": [
    "def score(A):\n",
    "    s, n = 0, len(A) - 1\n",
    "    for i in range(0, n):\n",
    "        s1, s2 = A[i], A[i+1]\n",
    "        s += min(len(s1 - s2), len(s1 & s2), len(s2 - s1))\n",
    "    return s"
   ]
  },
  {
   "cell_type": "code",
   "execution_count": 28,
   "metadata": {},
   "outputs": [
    {
     "name": "stdout",
     "output_type": "stream",
     "text": [
      "V: 60000\n",
      "H: 30000\n"
     ]
    }
   ],
   "source": [
    "# read data\n",
    "V, H = read_data()\n",
    "# if odd vertical, kick one\n",
    "if len(V) % 2: V = V[:-1]\n",
    "print('V:', len(V))\n",
    "print('H:', len(H))"
   ]
  },
  {
   "cell_type": "code",
   "execution_count": 30,
   "metadata": {},
   "outputs": [
    {
     "name": "stdout",
     "output_type": "stream",
     "text": [
      "MS: 231972\n"
     ]
    }
   ],
   "source": [
    "MS = 0\n",
    "\n",
    "for _ in range(5):\n",
    "    # pair verticals -- random for now\n",
    "    random.shuffle(V)\n",
    "    PV = list(map(lambda t: t[0] | t[1], zip(V[::2], V[1::2])))\n",
    "    # print('PV:', len(PV))\n",
    "    \n",
    "    # concat\n",
    "    T = H + PV\n",
    "    \n",
    "    # swap\n",
    "    for _ in range(10):\n",
    "        for i in range(2, len(T)-1):\n",
    "            a, b, c, d = T[i-2], T[i-1], T[i], T[i+1]\n",
    "            s_init = min(len(a - b), len(a & b), len(b - a)) + min(len(c - d), len(c & d), len(d - c))\n",
    "            s_fin = min(len(a - c), len(a & c), len(c - a)) + min(len(b - d), len(b & d), len(d - b))\n",
    "            if s_fin > s_init: T[i-1], T[i] = T[i], T[i-1]\n",
    "        \n",
    "    # get score\n",
    "    S = score(T)\n",
    "    MS = max(MS, S)\n",
    "    # print('S:', S)\n",
    "\n",
    "    \n",
    "print('MS:', MS)"
   ]
  },
  {
   "cell_type": "code",
   "execution_count": null,
   "metadata": {},
   "outputs": [],
   "source": [
    "MS = 0\n",
    "\n",
    "for _ in range(5):\n",
    "    # pair verticals -- random for now\n",
    "    random.shuffle(V)\n",
    "    PV = list(map(lambda t: t[0] | t[1], zip(V[::2], V[1::2])))\n",
    "    # print('PV:', len(PV))\n",
    "    \n",
    "    # concat\n",
    "    T = H + PV\n",
    "        \n",
    "    # get score\n",
    "    S = score(T)\n",
    "    MS = max(MS, S)\n",
    "    # print('S:', S)\n",
    "\n",
    "    \n",
    "print('MS:', MS)"
   ]
  }
 ],
 "metadata": {
  "kernelspec": {
   "display_name": "Python 3",
   "language": "python",
   "name": "python3"
  },
  "language_info": {
   "codemirror_mode": {
    "name": "ipython",
    "version": 3
   },
   "file_extension": ".py",
   "mimetype": "text/x-python",
   "name": "python",
   "nbconvert_exporter": "python",
   "pygments_lexer": "ipython3",
   "version": "3.7.2"
  }
 },
 "nbformat": 4,
 "nbformat_minor": 2
}
